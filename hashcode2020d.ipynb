{
  "nbformat": 4,
  "nbformat_minor": 0,
  "metadata": {
    "colab": {
      "name": "hashcode2020.ipynb",
      "provenance": [],
      "collapsed_sections": []
    },
    "kernelspec": {
      "name": "python3",
      "display_name": "Python 3"
    }
  },
  "cells": [
    {
      "cell_type": "code",
      "metadata": {
        "id": "MpAzFnWYuzTj",
        "colab_type": "code",
        "colab": {}
      },
      "source": [
        "import numpy as np\n",
        "import pandas as pd"
      ],
      "execution_count": 0,
      "outputs": []
    },
    {
      "cell_type": "code",
      "metadata": {
        "id": "oRfomtI1x0Os",
        "colab_type": "code",
        "colab": {}
      },
      "source": [
        "File=\"a_example.txt\""
      ],
      "execution_count": 0,
      "outputs": []
    },
    {
      "cell_type": "code",
      "metadata": {
        "id": "ssyyuHuUyDuO",
        "colab_type": "code",
        "colab": {}
      },
      "source": [
        "File=\"b_read_on.txt\""
      ],
      "execution_count": 0,
      "outputs": []
    },
    {
      "cell_type": "code",
      "metadata": {
        "id": "ssje9AQOyIH2",
        "colab_type": "code",
        "colab": {}
      },
      "source": [
        "File=\"c_incunabula.txt\""
      ],
      "execution_count": 0,
      "outputs": []
    },
    {
      "cell_type": "code",
      "metadata": {
        "id": "cqaP3KEPyJrU",
        "colab_type": "code",
        "colab": {}
      },
      "source": [
        "File=\"d_tough_choices.txt\""
      ],
      "execution_count": 0,
      "outputs": []
    },
    {
      "cell_type": "code",
      "metadata": {
        "id": "FEldvgIVyJ_1",
        "colab_type": "code",
        "colab": {}
      },
      "source": [
        "File=\"e_so_many_books.txt\""
      ],
      "execution_count": 0,
      "outputs": []
    },
    {
      "cell_type": "code",
      "metadata": {
        "id": "32CRtZuqySc7",
        "colab_type": "code",
        "colab": {}
      },
      "source": [
        "File=\"f_libraries_of_the_world.txt\""
      ],
      "execution_count": 0,
      "outputs": []
    },
    {
      "cell_type": "code",
      "metadata": {
        "id": "5Z7mvySayXoB",
        "colab_type": "code",
        "colab": {}
      },
      "source": [
        "ofile=open(File,'r')\n",
        "lines=ofile.readlines()\n",
        "ofile.close()\n",
        "B,L,D=lines[0].split()\n",
        "S=lines[1].split()\n",
        "#flines=list (map (int, lines.strip().split()))\n",
        "M,T,N=[],[],[]\n",
        "try:\n",
        "  for i in range(2,len(lines),2):\n",
        "    n,t,m=map(int,lines[i].strip('\\n').split())\n",
        "    N.append(n)\n",
        "    M.append(1.0/m)\n",
        "    T.append(t)\n",
        "  libraries=np.array(lines[2::2])\n",
        "except:\n",
        "  pass\n",
        "T=np.array(T)\n",
        "M=np.array(M)\n",
        "N=np.array(N)\n",
        "books=np.array(lines[3::2])"
      ],
      "execution_count": 0,
      "outputs": []
    },
    {
      "cell_type": "code",
      "metadata": {
        "id": "-dJPuMInydcl",
        "colab_type": "code",
        "colab": {}
      },
      "source": [
        "p=np.multiply(N,M)\n",
        "libid=np.argsort(p)"
      ],
      "execution_count": 0,
      "outputs": []
    },
    {
      "cell_type": "code",
      "metadata": {
        "id": "XzXQoQ68yukq",
        "colab_type": "code",
        "colab": {
          "base_uri": "https://localhost:8080/",
          "height": 34
        },
        "outputId": "ba938ae3-64e5-4b1b-ecd1-646d93c24cbb"
      },
      "source": [
        "libid"
      ],
      "execution_count": 244,
      "outputs": [
        {
          "output_type": "execute_result",
          "data": {
            "text/plain": [
              "array([20754,  8080,   163, ..., 23907,  8081,   162])"
            ]
          },
          "metadata": {
            "tags": []
          },
          "execution_count": 244
        }
      ]
    },
    {
      "cell_type": "code",
      "metadata": {
        "id": "1IVJc43dFsm1",
        "colab_type": "code",
        "colab": {
          "base_uri": "https://localhost:8080/",
          "height": 34
        },
        "outputId": "440622bc-7d63-42e5-e60f-fac2fc1ddc4a"
      },
      "source": [
        "np.sum(T[libid[:-15000]])"
      ],
      "execution_count": 245,
      "outputs": [
        {
          "output_type": "execute_result",
          "data": {
            "text/plain": [
              "30000"
            ]
          },
          "metadata": {
            "tags": []
          },
          "execution_count": 245
        }
      ]
    },
    {
      "cell_type": "code",
      "metadata": {
        "id": "Mudn7DWUKdxf",
        "colab_type": "code",
        "colab": {
          "base_uri": "https://localhost:8080/",
          "height": 34
        },
        "outputId": "36d10f5c-b00a-4ce6-efd2-779175bb0094"
      },
      "source": [
        "len(libid[:-15000])"
      ],
      "execution_count": 251,
      "outputs": [
        {
          "output_type": "execute_result",
          "data": {
            "text/plain": [
              "15000"
            ]
          },
          "metadata": {
            "tags": []
          },
          "execution_count": 251
        }
      ]
    },
    {
      "cell_type": "code",
      "metadata": {
        "id": "kKsh8A6X2G4j",
        "colab_type": "code",
        "colab": {}
      },
      "source": [
        "bookscan=books[libid]"
      ],
      "execution_count": 0,
      "outputs": []
    },
    {
      "cell_type": "code",
      "metadata": {
        "id": "JqlEZkY2Fr64",
        "colab_type": "code",
        "colab": {
          "base_uri": "https://localhost:8080/",
          "height": 34
        },
        "outputId": "c61ebb9d-9922-4bb8-98ab-2f0962e30bbb"
      },
      "source": [
        "D"
      ],
      "execution_count": 247,
      "outputs": [
        {
          "output_type": "execute_result",
          "data": {
            "text/plain": [
              "'30001'"
            ]
          },
          "metadata": {
            "tags": []
          },
          "execution_count": 247
        }
      ]
    },
    {
      "cell_type": "code",
      "metadata": {
        "id": "DemthkwK-RxC",
        "colab_type": "code",
        "colab": {
          "base_uri": "https://localhost:8080/",
          "height": 102
        },
        "outputId": "1db3def5-e171-4568-d1a8-9a6db9fb1e6d"
      },
      "source": [
        "bookscan"
      ],
      "execution_count": 248,
      "outputs": [
        {
          "output_type": "execute_result",
          "data": {
            "text/plain": [
              "array(['72065\\n', '42901\\n', '1107\\n', ...,\n",
              "       '75027 54503 17619 31917 51969 59996 73895 40573 45551 75028 31984 59058 43542\\n',\n",
              "       '42901 35500 8130 42902 25135 42903 42904 42905 40230 25569 42906 42907 42908 42909\\n',\n",
              "       '1107 1108 1109 1110 1111 1112 1113 1114 1115 1116 1117 1118 1119 1120\\n'],\n",
              "      dtype='<U83')"
            ]
          },
          "metadata": {
            "tags": []
          },
          "execution_count": 248
        }
      ]
    },
    {
      "cell_type": "code",
      "metadata": {
        "id": "tH5jzNOPBLKb",
        "colab_type": "code",
        "colab": {}
      },
      "source": [
        "ofile=open(\"output_d.txt\",'w')\n",
        "ofile.write(str(len(libid[:-15000]))+'\\n')\n",
        "for i in range(0,len(libid[:-15000])):\n",
        "  ofile.write(str(libid[i])+\" \"+str(N[libid[i]])+'\\n')\n",
        "  ofile.write(str(bookscan[i]))\n",
        "ofile.close()"
      ],
      "execution_count": 0,
      "outputs": []
    },
    {
      "cell_type": "code",
      "metadata": {
        "id": "coilhL9EB_fc",
        "colab_type": "code",
        "colab": {
          "base_uri": "https://localhost:8080/",
          "height": 34
        },
        "outputId": "6927a997-ee1e-412b-a79d-b5c24e395268"
      },
      "source": [
        "L"
      ],
      "execution_count": 250,
      "outputs": [
        {
          "output_type": "execute_result",
          "data": {
            "text/plain": [
              "'30000'"
            ]
          },
          "metadata": {
            "tags": []
          },
          "execution_count": 250
        }
      ]
    },
    {
      "cell_type": "code",
      "metadata": {
        "id": "unwN-t6hDvWt",
        "colab_type": "code",
        "colab": {}
      },
      "source": [
        ""
      ],
      "execution_count": 0,
      "outputs": []
    }
  ]
}